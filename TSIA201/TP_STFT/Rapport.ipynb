{
 "cells": [
  {
   "cell_type": "code",
   "execution_count": 83,
   "metadata": {},
   "outputs": [],
   "source": [
    "import scipy.signal as sgn\n",
    "import scipy as sp\n",
    "import numpy as np\n",
    "import matplotlib.pyplot as plt\n",
    "\n",
    "import warnings\n",
    "warnings.filterwarnings('ignore')"
   ]
  },
  {
   "cell_type": "markdown",
   "metadata": {},
   "source": [
    "# Practical work on the conversion of sampling rate and STFT\n",
    "Group members: LI Xiquan, ZHU Chenhao\n"
   ]
  },
  {
   "cell_type": "markdown",
   "metadata": {},
   "source": [
    "## I. Conversion of sampling rate"
   ]
  },
  {
   "cell_type": "markdown",
   "metadata": {},
   "source": [
    "\n",
    "### 1. Description of the processing chain\n",
    "To transform the sampling rate from $F_s = 48kHz$ to $F_s = 32kHz$, we need to perform a resampling by a factor 2/3. To preserve more information, we can first upscale the sampling rate to $F_s = 96kHz$ and then downscale it to $F_s = 32kHz$. Thus, the processing chain contains \n",
    "1. Insertion of zeros between each sample, L = 2\n",
    "2. Apply a low-pass filter $H(z)$ \n",
    "$$\\begin{equation*}\n",
    "    H(e^{i2\\pi\\nu}) =\n",
    "    \\begin{cases}\n",
    "        L, & \\text{if } |\\nu| < \\frac16  \\\\\n",
    "        0, & \\text{if } \\frac{1}{6} < |\\nu| < \\frac12\n",
    "    \\end{cases}\n",
    "\\end{equation*}\n",
    "$$\n",
    "3. Downsample the signal by a factor 3"
   ]
  },
  {
   "cell_type": "markdown",
   "metadata": {},
   "source": [
    "### 2. Synthesis of impulse response h(n)"
   ]
  },
  {
   "cell_type": "code",
   "execution_count": null,
   "metadata": {},
   "outputs": [],
   "source": [
    "L = 2\n",
    "M = 3\n",
    "h = sgn.remez(32, [0, 1/6, 0.27, 0.5], [L, 0])\n",
    "plt.stem(h)"
   ]
  },
  {
   "cell_type": "code",
   "execution_count": 85,
   "metadata": {},
   "outputs": [],
   "source": [
    "w,H = sp.signal.freqz(h,1,fs=48E3)"
   ]
  },
  {
   "cell_type": "code",
   "execution_count": null,
   "metadata": {},
   "outputs": [],
   "source": [
    "plt.figure()\n",
    "plt.plot(w,20*np.log10(np.abs(H)))\n",
    "plt.plot([0,25000],[-50+np.log10(L),-50+np.log10(L)],'r')"
   ]
  },
  {
   "cell_type": "markdown",
   "metadata": {},
   "source": [
    "### 3. Processing"
   ]
  },
  {
   "cell_type": "code",
   "execution_count": 87,
   "metadata": {},
   "outputs": [],
   "source": [
    "import os,wave,struct\n",
    "from IPython.display import Audio\n",
    "from scipy.io.wavfile import write"
   ]
  },
  {
   "cell_type": "code",
   "execution_count": 88,
   "metadata": {},
   "outputs": [],
   "source": [
    "data_path = os.getcwd()\n",
    "filename = 'caravan_48khz.wav'\n",
    "sound = os.path.join(data_path, filename) "
   ]
  },
  {
   "cell_type": "code",
   "execution_count": 89,
   "metadata": {},
   "outputs": [],
   "source": [
    "def load_sound(file):\n",
    "    return wave.open(file, 'rb')\n",
    "\n",
    "def plot_sound(data, times, name='default_name', save=False):\n",
    "    plt.figure(figsize=(30, 4))\n",
    "    plt.fill_between(times, data)\n",
    "    plt.xlim(times[0], times[-1])\n",
    "    plt.xlabel('time (s)')\n",
    "    plt.ylabel('amplitude')\n",
    "    if save:\n",
    "        plt.savefig(name+'.png', dpi=100)\n",
    "    plt.show()"
   ]
  },
  {
   "cell_type": "code",
   "execution_count": null,
   "metadata": {},
   "outputs": [],
   "source": [
    "wavefile = load_sound(sound)\n",
    "print(wavefile.getparams())"
   ]
  },
  {
   "cell_type": "code",
   "execution_count": 91,
   "metadata": {},
   "outputs": [],
   "source": [
    "num_samples = int(wavefile.getnframes())\n",
    "data = wavefile.readframes(num_samples)\n",
    "data = struct.unpack('{n}h'.format(n=num_samples), data)\n",
    "x = np.array(data)"
   ]
  },
  {
   "cell_type": "code",
   "execution_count": null,
   "metadata": {},
   "outputs": [],
   "source": [
    "Audio(data=sound)"
   ]
  },
  {
   "cell_type": "code",
   "execution_count": 93,
   "metadata": {},
   "outputs": [],
   "source": [
    "# insert zeros \n",
    "def upsample(arr, L):\n",
    "    \"\"\"\n",
    "    Insert L zeros between each element in a NumPy array\n",
    "    :param arr: Original array\n",
    "    :param L: Number of zeros to insert\n",
    "    :return: New array with zeros inserted\n",
    "    \"\"\"\n",
    "    # Create a new array with length equal to the original array length plus the total number of inserted zeros\n",
    "    new_length = len(arr) + (L-1) * (len(arr) - 1)\n",
    "    new_arr = np.zeros(new_length)\n",
    "    \n",
    "    # Place the original array values in the appropriate positions in the new array\n",
    "    new_arr[::L] = arr\n",
    "    \n",
    "    return new_arr\n",
    "\n",
    "# Downsample\n",
    "def downsample(arr, M):\n",
    "    \"\"\"\n",
    "    Downsample a NumPy array\n",
    "    :param arr: Original array\n",
    "    :param M: Downsampling factor\n",
    "    :return: New downsampled array\n",
    "    \"\"\"\n",
    "    return arr[::M]"
   ]
  },
  {
   "cell_type": "code",
   "execution_count": 94,
   "metadata": {},
   "outputs": [],
   "source": [
    "import time\n",
    "def resample(x, L, M, h):\n",
    "    t_start = time.perf_counter()\n",
    "    y1 = upsample(x, L)\n",
    "    \n",
    "    y2 = sgn.lfilter(h, 1, y1)\n",
    "    \n",
    "    y3 = downsample(y2, M)\n",
    "    t_end = time.perf_counter()\n",
    "    # print('Time cost: %.2f s' % (t_end - t_start))\n",
    "    \n",
    "    return y3,t_end - t_start\n",
    "\n",
    "y,delta_t = resample(x, L, M, h)"
   ]
  },
  {
   "cell_type": "code",
   "execution_count": 95,
   "metadata": {},
   "outputs": [],
   "source": [
    "Fs = 32000\n",
    "write('./Processed_audio/caravan_32k.wav', Fs, np.array(y,dtype=np.int16)) # to write a new wave file"
   ]
  },
  {
   "cell_type": "code",
   "execution_count": null,
   "metadata": {},
   "outputs": [],
   "source": [
    "# play the new wave file\n",
    "Audio(data='./Processed_audio/caravan_32k.wav')"
   ]
  },
  {
   "cell_type": "markdown",
   "metadata": {},
   "source": [
    "### 4. Demonstration of equivalence"
   ]
  },
  {
   "cell_type": "markdown",
   "metadata": {},
   "source": [
    "![image](Figures/Demonstration.jpg)"
   ]
  },
  {
   "cell_type": "markdown",
   "metadata": {},
   "source": [
    "### 5. Efficient implementation"
   ]
  },
  {
   "cell_type": "markdown",
   "metadata": {},
   "source": [
    "#### Figure"
   ]
  },
  {
   "cell_type": "markdown",
   "metadata": {},
   "source": [
    "![image](Figures/efficient_implementation.jpg)"
   ]
  },
  {
   "cell_type": "markdown",
   "metadata": {},
   "source": [
    "#### Code"
   ]
  },
  {
   "cell_type": "code",
   "execution_count": 97,
   "metadata": {},
   "outputs": [],
   "source": [
    "def polyphase_decomp(h,n):\n",
    "    \"\"\"\n",
    "    Decompose a filter into polyphase components\n",
    "    :param h: the filter to be decomposed\n",
    "    :param n: the number of phases\n",
    "    :return: a list of polyphase components\n",
    "    \"\"\"\n",
    "    # Create a list to store the polyphase components\n",
    "    h_list = []\n",
    "\n",
    "    # Decompose the filter into n polyphase components\n",
    "    for i in range(n):\n",
    "        h_list.append(h[i::n])\n",
    "    \n",
    "    return h_list\n",
    "\n",
    "def efficient_resample_23(x,h):\n",
    "    np.append(x, [0])\n",
    "    x_lists = []\n",
    "    h_list_down = polyphase_decomp(h, 3)\n",
    "    h_list_up = [polyphase_decomp(h, 2) for h in h_list_down]\n",
    "\n",
    "    X = downsample(x, 3)\n",
    "    X = sgn.lfilter(h_list_up[0][1], 1, X)\n",
    "    X = upsample(X, 2)\n",
    "    x_lists.append(X)\n",
    "\n",
    "    X = downsample(x, 3)\n",
    "    X = sgn.lfilter(h_list_up[0][0], 1, X)\n",
    "    X = upsample(X, 2)\n",
    "    X = np.pad(X, (1, 0), 'constant') \n",
    "    x_lists.append(X)\n",
    "\n",
    "    X = downsample(x[1::], 3)\n",
    "    X = sgn.lfilter(h_list_up[1][1], 1, X)\n",
    "    X = upsample(X, 2)\n",
    "    X = np.pad(X, (1, 0), 'constant') \n",
    "    x_lists.append(X)\n",
    "\n",
    "    X = downsample(x[1::], 3)\n",
    "    X = sgn.lfilter(h_list_up[1][0], 1, X)\n",
    "    X = upsample(X, 2)\n",
    "    X = np.pad(X, (2, 0), 'constant')  \n",
    "    x_lists.append(X)\n",
    "\n",
    "    X = downsample(x[2::], 3)\n",
    "    X = sgn.lfilter(h_list_up[2][1], 1, X)\n",
    "    X = upsample(X, 2)\n",
    "    X = np.pad(X, (2, 0), 'constant')  \n",
    "    x_lists.append(X)\n",
    "\n",
    "    X = downsample(x[2::], 3)\n",
    "    X = sgn.lfilter(h_list_up[2][0], 1, X)\n",
    "    X = upsample(X, 2)\n",
    "    X = np.pad(X, (3, 0), 'constant')  \n",
    "    x_lists.append(X)\n",
    "\n",
    "    max_len = max([len(x_list) for x_list in x_lists])\n",
    "    res = np.zeros(max_len)\n",
    "    for i in range(len(x_lists)):\n",
    "        x_lists[i] = np.pad(x_lists[i], (0, max_len-len(x_lists[i])), 'constant')\n",
    "        res = res + np.array(x_lists[i])\n",
    "\n",
    "    return res"
   ]
  },
  {
   "cell_type": "markdown",
   "metadata": {},
   "source": [
    "### 6. Comparison with the reference implementation"
   ]
  },
  {
   "cell_type": "markdown",
   "metadata": {},
   "source": [
    "#### Concurrent version of efficient implementation "
   ]
  },
  {
   "cell_type": "code",
   "execution_count": 98,
   "metadata": {},
   "outputs": [],
   "source": [
    "# We transform the implementation into concurrent version in order to mesure its impact on performance.\n",
    "\n",
    "import concurrent.futures\n",
    "import time\n",
    "\n",
    "def process_sequence(params):\n",
    "    \"\"\"根据参数执行信号处理\"\"\"\n",
    "    x = params['x']\n",
    "    downsample_factor = params['downsample_factor']\n",
    "    upsample_factor = params['upsample_factor']\n",
    "    pad1_before = params['pad1_before']\n",
    "    pad2_before = params['pad2_before']\n",
    "    pad1_after = params['pad1_after']\n",
    "    pad2_after = params['pad2_after']\n",
    "    h_filter = params['h_filter']\n",
    "    x_slice = params.get('x_slice')  \n",
    "\n",
    "    if x_slice is not None:  \n",
    "        X = downsample(x[x_slice], downsample_factor)\n",
    "    else:  \n",
    "        X = downsample(x, downsample_factor)\n",
    "    \n",
    "    X = np.pad(X, (pad1_before, pad1_after), 'constant')\n",
    "    X = sgn.lfilter(h_filter, 1, X)\n",
    "    X = upsample(X, upsample_factor)\n",
    "    X = np.pad(X, (pad2_before, pad2_after), 'constant')\n",
    "    return X\n",
    "\n",
    "def parallel_process(x, h):\n",
    "    # Use dictionaries to pass parameters to the function\n",
    "    h_list_down = polyphase_decomp(h, 3)\n",
    "    h_list = [polyphase_decomp(h, 2) for h in h_list_down]\n",
    "    params_list = [\n",
    "        {'x': x, 'downsample_factor': 3, 'upsample_factor': 2, 'pad1_before': 0, 'pad2_before': 0,'pad1_after':0,'pad2_after':2, 'h_filter': h_list[0][1], 'x_slice': None},\n",
    "        {'x': x, 'downsample_factor': 3, 'upsample_factor': 2, 'pad1_before': 0, 'pad2_before': 1,'pad1_after':0,'pad2_after':1, 'h_filter': h_list[0][0], 'x_slice': None},\n",
    "        {'x': x, 'downsample_factor': 3, 'upsample_factor': 2, 'pad1_before': 0, 'pad2_before': 1,'pad1_after':0,'pad2_after':1, 'h_filter': h_list[1][1], 'x_slice': slice(1, None)},\n",
    "        {'x': x, 'downsample_factor': 3, 'upsample_factor': 2, 'pad1_before': 0, 'pad2_before': 2,'pad1_after':0,'pad2_after':0, 'h_filter': h_list[1][0], 'x_slice': slice(1, None)},\n",
    "        {'x': x, 'downsample_factor': 3, 'upsample_factor': 2, 'pad1_before': 0, 'pad2_before': 2,'pad1_after':0,'pad2_after':2, 'h_filter': h_list[2][1], 'x_slice': slice(2, None)},\n",
    "        {'x': x, 'downsample_factor': 3, 'upsample_factor': 2, 'pad1_before': 0, 'pad2_before': 3,'pad1_after':0,'pad2_after':1, 'h_filter': h_list[2][0], 'x_slice': slice(2, None)}\n",
    "    ]\n",
    "\n",
    "    x_lists = []\n",
    "\n",
    "    t_start = time.perf_counter()\n",
    "    # Excetute the function in parallel\n",
    "    with concurrent.futures.ThreadPoolExecutor() as executor:\n",
    "        futures = [executor.submit(process_sequence, params) for params in params_list]\n",
    "        for future in concurrent.futures.as_completed(futures):\n",
    "            x_lists.append(future.result())\n",
    "\n",
    "    res = np.sum(x_lists, axis=0)\n",
    "\n",
    "    t_end = time.perf_counter()\n",
    "    return res, t_end - t_start\n",
    "\n",
    "x2 = np.append(x, [0])\n",
    "y4,delta_t = parallel_process(x, h)\n"
   ]
  },
  {
   "cell_type": "markdown",
   "metadata": {},
   "source": [
    "#### Computation of speed up ratio"
   ]
  },
  {
   "cell_type": "code",
   "execution_count": null,
   "metadata": {},
   "outputs": [],
   "source": [
    "# Compare average time cost\n",
    "res_origin = 0\n",
    "N = 50\n",
    "for i in range(N):\n",
    "    _,delta_t = resample(x, L, M, h)\n",
    "    res_origin+=delta_t\n",
    "\n",
    "print('Average time cost of resample: %.6f s' % (res_origin/N))\n",
    "\n",
    "res_efficient = 0\n",
    "for i in range(N):\n",
    "    _,delta_t = parallel_process(x, h)\n",
    "    res_efficient+=delta_t\n",
    "\n",
    "print('Average time cost of parallel_process: %.6f s' % (res_efficient/N))\n",
    "print('Speedup: %.2f' % (res_origin/res_efficient))"
   ]
  },
  {
   "cell_type": "markdown",
   "metadata": {},
   "source": [
    "Speed up ratio of the concurrent version of the efficient implementation is about 1.78 compared with the reference implementation."
   ]
  },
  {
   "cell_type": "markdown",
   "metadata": {},
   "source": [
    "#### Comparison of the results"
   ]
  },
  {
   "cell_type": "code",
   "execution_count": null,
   "metadata": {},
   "outputs": [],
   "source": [
    "# Result of the reference implementation\n",
    "y1,_ = resample(x, L, M, h)\n",
    "write('./Processed_audio/caravan_32k.wav', 32000, np.array(y1,dtype=np.int16))\n",
    "Audio(data='./Processed_audio/caravan_32k.wav')\n"
   ]
  },
  {
   "cell_type": "code",
   "execution_count": null,
   "metadata": {},
   "outputs": [],
   "source": [
    "# Result of the efficient resampling\n",
    "y2 = efficient_resample_23(x,h)\n",
    "write('./Processed_audio/caravan_32k_eff.wav', 32000, np.array(y2,dtype=np.int16))\n",
    "Audio(data='./Processed_audio/caravan_32k_eff.wav')\n"
   ]
  },
  {
   "cell_type": "code",
   "execution_count": null,
   "metadata": {},
   "outputs": [],
   "source": [
    "# Original sound\n",
    "Audio(data=sound)\n"
   ]
  },
  {
   "cell_type": "code",
   "execution_count": null,
   "metadata": {},
   "outputs": [],
   "source": [
    "# Comparison of spectrogram of the three signals\n",
    "plt.figure()\n",
    "plt.magnitude_spectrum(x, Fs=48E3, scale='dB')\n",
    "plt.title('Original Signal')\n",
    "plt.ylim(-120, 100)\n",
    "plt.xlim(0, 24E3)\n",
    "plt.magnitude_spectrum(y1, Fs=32E3, scale='dB',color='r',alpha=0.5)\n",
    "plt.title('Resampled Signal')\n",
    "plt.ylim(-120, 100)\n",
    "plt.xlim(0, 24E3)\n",
    "plt.legend(['Original Signal','Resampled Signal'])\n",
    "\n",
    "plt.figure()\n",
    "plt.magnitude_spectrum(y1, Fs=32E3, scale='dB')\n",
    "plt.title('Resampled Signal')\n",
    "plt.ylim(-120, 100)\n",
    "plt.xlim(0, 24E3)\n",
    "plt.magnitude_spectrum(y2, Fs=32E3, scale='dB',color='r',alpha=0.5) \n",
    "plt.title('Efficient Resampled Signal')\n",
    "plt.ylim(-120, 100)\n",
    "plt.xlim(0, 24E3)\n",
    "plt.legend(['Resampled Signal','Efficient Resampled Signal'])\n",
    "plt.show()\n",
    "\n"
   ]
  },
  {
   "cell_type": "markdown",
   "metadata": {},
   "source": [
    "## II. STFT Audio Equalization"
   ]
  },
  {
   "cell_type": "markdown",
   "metadata": {},
   "source": [
    "### 2.1 STFT Analysis\n",
    "\n"
   ]
  },
  {
   "cell_type": "markdown",
   "metadata": {},
   "source": [
    "#### 1. DFT of the hanning window"
   ]
  },
  {
   "cell_type": "code",
   "execution_count": null,
   "metadata": {},
   "outputs": [],
   "source": [
    "N_w = 256  # Length of the Hann window\n",
    "M = 2**20  # DFT length (M >= N_w)\n",
    "\n",
    "# Generate Hann window\n",
    "n = np.arange(N_w)\n",
    "hann_window = np.hanning(N_w)\n",
    "\n",
    "# Compute DFT\n",
    "W = np.fft.fft(hann_window, n=M)\n",
    "frequencies = np.fft.fftfreq(M, d=1.0)\n",
    "\n",
    "# Plot the magnitude of the DFT (in dB)\n",
    "plt.plot(frequencies[:M//10], 20*np.log10(np.abs(W[:M//10])))\n",
    "plt.title(\"DFT of the Hann Window\")\n",
    "plt.xlabel(\"Frequency (normalized)\")\n",
    "plt.ylabel(\"Magnitude (dB)\")\n",
    "main_lobe_end = np.where(np.abs(W[:M//2]) < 1e-3)[0][0]  \n",
    "\n",
    "plt.axvline(frequencies[main_lobe_end], color='r', linestyle='--', label=f'Main Lobe Width ≈ {frequencies[main_lobe_end]*2:.4f}')\n",
    "plt.legend()\n",
    "plt.grid()\n",
    "\n",
    "print(f\"The main lobe width of the hanning window is: {4/N_w}\")\n",
    "plt.show()\n"
   ]
  },
  {
   "cell_type": "markdown",
   "metadata": {},
   "source": [
    "The width of the main lobe could be obtained by $ L = \\frac{4}{N_w}$. Since the fourier transform of the window could be written as: \n",
    "\n",
    " $${ W(f)={\\frac {1}{2}}{\\frac {\\operatorname {sinc} (N_wf)}{(1-N_w^{2}f^{2})}}={\\frac {\\sin(\\pi N_wf)}{2\\pi N_wf(1-N_w^{2}f^{2})}}}$$\n",
    "\n",
    "We can deduce that the first zero was obtained when $f_0 = \\frac{2}{N_w}$. So $L = 2f_0 = \\frac{4}{N_w}$. "
   ]
  },
  {
   "cell_type": "markdown",
   "metadata": {},
   "source": [
    "#### 2. Low-pass convention of STFT\n",
    "We have: \n",
    "$$\n",
    "\\begin{align*}\n",
    "W_x(\\lambda, b) &= \\sum_{n\\in \\mathbb{Z}} x(n) w(n-b) e^{-2j\\pi\\lambda n}  \\\\\n",
    "                &= \\sum_{n\\in \\mathbb{Z}} x(n) e^{-2j\\pi\\lambda n} \\cdot w(b-n)  \\\\\n",
    "                &= (\\tilde{x}_\\lambda * w)(b)\n",
    "\\end{align*}\n",
    "$$\n",
    "Where $\\tilde{x}_\\lambda = x(n) e^{-2j\\pi\\lambda n}$, and $\\tilde{X}_\\lambda(f) = X(f + \\lambda)$. So STFT, at frequency $\\lambda$, could be seen as a convolution between the signal $\\tilde{x}_\\lambda$ with a **low-pass** filter $w$. The filter is of type 1 or 2 according to its length, since it is symmetric. \n"
   ]
  },
  {
   "cell_type": "markdown",
   "metadata": {},
   "source": [
    "#### 3. Band-pass convention of STFT\n",
    "\n",
    "The designation is because the formula could be seen as a convolution between the signal and a band-pass filter: \n",
    "$$\n",
    "\\begin{align*}\n",
    "\\tilde{X}(\\lambda, b) &= \\sum_{n \\in \\mathbb{Z}} x(n + b) w(n) e^{-j2\\pi \\lambda n} \\\\\n",
    "                      &\\underset{m=n+b}{=} \\sum_{m \\in \\mathbb{Z}} x(m) w(m-b) e^{-j2\\pi \\lambda (m-b)}  \\\\\n",
    "                      &=\\sum_{m \\in \\mathbb{Z}} x(m) w(b-m) e^{j2\\pi \\lambda (b-m)} \\\\\n",
    "                      &=(x * \\tilde{w}_\\lambda) (b)\n",
    "\\end{align*} \n",
    "$$\n",
    "With $\\tilde{w}_\\lambda(n) = w(n) e^{2j\\pi\\lambda n}$, $\\tilde{W}_\\lambda(f) = W(f-\\lambda)$, so it is a band-pass filter. \n",
    "And we have: \n",
    "\n",
    "$$\n",
    "\\begin{align*}\n",
    "\\tilde{X}(\\lambda, b)&= \\sum_{n \\in \\mathbb{Z}} x(n + b) w(n) e^{-j2\\pi \\lambda n} \\\\\n",
    "                     &\\underset{m=n+b}{=} \\sum_{m \\in \\mathbb{Z}} x(m) w(m-b) e^{-j2\\pi \\lambda (m-b)} \\\\\n",
    "                     &=W_x(\\lambda, b) \\cdot e^{2j\\pi \\lambda b}\n",
    "\\end{align*}\n",
    "$$\n",
    "The implementation of the notebook correspond to the band-pass convention. "
   ]
  },
  {
   "cell_type": "markdown",
   "metadata": {},
   "source": [
    "#### 4. STFT based on filtering"
   ]
  },
  {
   "cell_type": "code",
   "execution_count": 64,
   "metadata": {},
   "outputs": [],
   "source": [
    "N = x.shape[0] # % longueur du signal\n",
    "Nw = 32  # longueur de la fenetre\n",
    "w = np.hanning(Nw) # définition de la fenetre d'analyse\n",
    "ws = w.copy; # définition de la fenêtre de synthèse\n",
    "R = 1 # incrément sur les temps d'analyse, appelé hop size, t_a=uR\n",
    "M = 32 # ordre de la tfd\n",
    "L = M/2+1\n",
    "affich = 1 ; # pour affichage du spectrogramme, 0 pour\n",
    "             # pour faire analyse/modif/synthèse sans affichage\n",
    "             # note: cf. spectrogram sous Matlab\n",
    "Nt = np.rint((N - Nw) / R) # calcul du nombre de tfd à calculer\n",
    "Nt = Nt.astype(int)\n",
    "y = np.zeros((N,1)) # signal de synthèse\n",
    "\n",
    "if affich:\n",
    "    Xtilde = np.zeros((M,Nt),dtype=complex)"
   ]
  },
  {
   "cell_type": "code",
   "execution_count": 65,
   "metadata": {},
   "outputs": [],
   "source": [
    "for u in np.arange(0,Nt).reshape(-1): # boucle sur les trames\n",
    "    deb = u * R + 1 # début de trame\n",
    "    fin = deb + Nw # fin de trame\n",
    "    tx = np.multiply(x[np.arange(deb.astype(int),fin.astype(int))],w) # calcul de la trame \n",
    "    X = np.fft.fft(tx,M) # tfd à l'instant b\n",
    "    if affich:\n",
    "        Xtilde[:,u] = X  \n",
    "    # opérations de transformation (sur la partie \\nu > 0)\n",
    "    # ....\n",
    "    Y = X.copy\n",
    "    # fin des opérations de transformation\n",
    "    # resynthèse\n",
    "    # overlap add\n",
    "    # Xtilde: [F, T]\n",
    "\n",
    "def extents(f):\n",
    "  delta = f[1] - f[0]\n",
    "  return [f[0] - delta/2, f[-1] + delta/2]"
   ]
  },
  {
   "cell_type": "code",
   "execution_count": null,
   "metadata": {},
   "outputs": [],
   "source": [
    "Audio(np.real(Xtilde[2, :]), rate=48000)"
   ]
  },
  {
   "cell_type": "code",
   "execution_count": null,
   "metadata": {},
   "outputs": [],
   "source": [
    "if affich:\n",
    "    plt.imshow(20*np.log10(np.abs(Xtilde[np.arange(0,L,dtype=int),:])), aspect='auto',interpolation='none',\n",
    "               origin='lower', extent=[0, (Nt * R + Nw) / Fs, 0, Fs/2])"
   ]
  },
  {
   "cell_type": "markdown",
   "metadata": {},
   "source": [
    "$x_2(u) = \\tilde{X}(2, u)$ is complexe. In terms of filtering, we have:\n",
    "$$\n",
    "\\tilde{X}(\\lambda, b) = (x * \\tilde{w}_\\lambda) (b)\n",
    "$$\n",
    "with $\\tilde{w}_\\lambda(n) = w(n) e^{2j\\pi\\lambda n}$, so for its implementation we have: "
   ]
  },
  {
   "cell_type": "code",
   "execution_count": 68,
   "metadata": {},
   "outputs": [],
   "source": [
    "Xtilde2 = []\n",
    "for i in range(M): \n",
    "    wtilde = w * np.exp(2j*np.pi*np.arange(len(w)) * i/M)\n",
    "    Xtilde2.append(sp.signal.lfilter(wtilde, [1], x))\n",
    "\n",
    "Xtilde2 = np.stack(Xtilde2)"
   ]
  },
  {
   "cell_type": "code",
   "execution_count": null,
   "metadata": {},
   "outputs": [],
   "source": [
    "if affich:\n",
    "    plt.imshow(20*np.log10(np.abs(Xtilde2[np.arange(0,L,dtype=int),:])), aspect='auto',interpolation='none',\n",
    "               origin='lower', extent=[0, (Nt * R + Nw) / Fs, 0, Fs/2])"
   ]
  },
  {
   "cell_type": "code",
   "execution_count": null,
   "metadata": {},
   "outputs": [],
   "source": [
    "Audio(np.real(Xtilde2[2]), rate=48000)"
   ]
  },
  {
   "cell_type": "markdown",
   "metadata": {},
   "source": [
    "### 2.2 Reconstruction of the signal"
   ]
  },
  {
   "cell_type": "markdown",
   "metadata": {},
   "source": [
    "#### 5. Demonstration of the sufficient condition and experimental verification"
   ]
  },
  {
   "cell_type": "markdown",
   "metadata": {},
   "source": [
    "We have\n",
    "$$ \n",
    "\\begin{align*}\n",
    "y_s(u,n) &= \\frac{1}{M} \\sum_{k=0}^{M-1} \\tilde{X}(k,u) e^{j2\\pi\\frac{nk}{M}} \\cdot w_s(n) \\\\\n",
    "         &= \\frac{1}{M}  w_s(n) \\cdot \\sum_{k=0}^{M-1} \\sum_{m \\in \\mathbb{Z}}[x(m+uR)w(m) e^{-j2\\pi\\frac{mk}{M}}]\\cdot e^{j2\\pi\\frac{nk}{M}} \\\\\n",
    "         &= \\frac{1}{M}  w_s(n) \\cdot \\{\\sum_{m \\in \\mathbb{Z}}x(m+uR)w(m)\\sum_{k=0}^{M-1} e^{-j2\\pi\\frac{mk}{M}}\\cdot e^{j2\\pi\\frac{nk}{M}}\\} \\\\\n",
    "         &= w_s(n) \\sum_{m \\in \\mathbb{Z}}x(m+uR)w(m) \\frac{1}{M}\\sum_{k=0}^{M-1}e^{j2\\pi\\frac{(n-m)k}{M}}\\\\\n",
    "\\end{align*}\n",
    "$$\n"
   ]
  },
  {
   "cell_type": "markdown",
   "metadata": {},
   "source": [
    "\n",
    "We can remark that if $n-m \\in M\\mathbb{Z}$, $\\frac{1}{M}\\sum_{k=0}^{M-1}e^{j2\\pi\\frac{(n-m)k}{M}} = 1$ and\n",
    "\n",
    "otherwise if $n-m\\neq 0$, we have $\\frac{1}{M}\\sum_{k=0}^{M-1}e^{j2\\pi\\frac{(n-m)k}{M}} = \\frac{1}{M} \\frac{1-e^{j2\\pi (n-m)}}{1-e^{j2\\pi\\frac{n-m}{M}}}$. The term $e^{j2\\pi(n-m)} = 1$ as $n-m\\in \\mathbb{Z}$, and therefore the whole expression is equal to 0.\n",
    "\n",
    "To sum up, we have $\\frac{1}{M}\\sum_{k=0}^{M-1}e^{j2\\pi\\frac{(n-m)k}{M}} = \\mathbf{1}_{n-m\\in M\\mathbb{Z}}$\n"
   ]
  },
  {
   "cell_type": "markdown",
   "metadata": {},
   "source": [
    "We then substitute this result in the expression of $y(n)$ to get\n",
    "$$\n",
    "\\begin{align*}\n",
    "y(n) &= \\sum_{u \\in \\mathbb{Z}} y_s(u,n-uR) \\\\\n",
    "     &= \\sum_{u \\in \\mathbb{Z}} w_s(n-uR) \\sum_{m \\in \\mathbb{Z}}x(m+uR)w(m) \\mathbf{1}_{n-uR-m\\in M\\mathbb{Z}}\n",
    "\\end{align*} \n",
    "$$\n",
    "$ \\mathbf{1}_{n-uR-m\\in M\\mathbb{Z}} = 1 $ only when $n-uR-m = qM$ with $q\\in \\mathbb{Z}$, i.e. $m = n-uR-qM$. \n",
    "Whereas $m\\leq M-1,n\\leq M-1$ and $n\\geq 0,m\\geq 0$, we have $q=0$ and $m = n-uR$. We can then rewrite the expression of $y(n)$ as\n",
    "$$\n",
    "\\begin{align*}\n",
    "y(n) &= \\sum_{u \\in \\mathbb{Z}} w_s(n-uR) x(n-uR+uR)w(n-uR) \\\\\n",
    "     &= x(n) \\sum_{u \\in \\mathbb{Z}} w_s(n-uR)w(n-uR)\n",
    "\\end{align*}\n",
    "$$\n",
    "\n",
    "If we have \n",
    "$$\n",
    "\\sum_{u \\in \\mathbb{Z}} w_s(n-uR)w(n-uR) = 1\n",
    "$$ \n",
    "then we will have $y(n) = x(n)$ for all $n$. This is thus a sufficient condition for the perfect reconstruction of the signal.\n"
   ]
  },
  {
   "cell_type": "code",
   "execution_count": 71,
   "metadata": {},
   "outputs": [],
   "source": [
    "def ola(w = None,hop = None,Nb = 10000): \n",
    "# function output = ola(w,hop,Nb)\n",
    "# realise l'addition-recouvrement de la fenetre w,\n",
    "# avec un décalage hop et un nombre Nb de fenetres.\n",
    "# par defaut Nb = 10;\n",
    "    \n",
    "    w = w[:, np.newaxis]\n",
    "    N = len(w)\n",
    "    output = np.zeros(((Nb - 1) * hop + N,1)) # réserve l'espace memoire\n",
    "    \n",
    "    for k in np.arange(0,Nb).reshape(-1):\n",
    "        deb = k* hop\n",
    "        fin = deb + N\n",
    "        output[np.arange(deb,fin)] = output[np.arange(deb,fin)] + w # OLA\n",
    "    \n",
    "    return output"
   ]
  },
  {
   "cell_type": "code",
   "execution_count": null,
   "metadata": {},
   "outputs": [],
   "source": [
    "plt.plot(ola(w*w, round(1/4*len(w))))"
   ]
  },
  {
   "cell_type": "markdown",
   "metadata": {},
   "source": [
    "We found that the result of OLA is approximately constant, where we have achieved this condition. "
   ]
  },
  {
   "cell_type": "markdown",
   "metadata": {},
   "source": [
    "#### 6. Implementation of resynthesis and verification"
   ]
  },
  {
   "cell_type": "code",
   "execution_count": 73,
   "metadata": {},
   "outputs": [],
   "source": [
    "def istft(Xtilde, w=w, hop=R):\n",
    "    \"\"\"\n",
    "    \n",
    "    \"\"\"\n",
    "    N = len(w)\n",
    "    Nb = Xtilde.shape[1]\n",
    "    x = np.zeros((Nb - 1) * hop + N)\n",
    "        \n",
    "    for k in np.arange(0,Nb).reshape(-1):\n",
    "        deb = k* hop\n",
    "        fin = deb + N\n",
    "        x[np.arange(deb,fin)] = x[np.arange(deb,fin)] + np.fft.ifft(Xtilde[:, k]) * w # OLA\n",
    "    \n",
    "    return x"
   ]
  },
  {
   "cell_type": "code",
   "execution_count": 74,
   "metadata": {},
   "outputs": [],
   "source": [
    "y = istft(Xtilde=Xtilde, w=w, hop=R)"
   ]
  },
  {
   "cell_type": "code",
   "execution_count": null,
   "metadata": {},
   "outputs": [],
   "source": [
    "Audio(y, rate=48000)"
   ]
  },
  {
   "cell_type": "code",
   "execution_count": null,
   "metadata": {},
   "outputs": [],
   "source": [
    "plot_sound(x, np.arange(len(x)))"
   ]
  },
  {
   "cell_type": "code",
   "execution_count": null,
   "metadata": {},
   "outputs": [],
   "source": [
    "plot_sound(y, np.arange(len((y))))"
   ]
  },
  {
   "cell_type": "markdown",
   "metadata": {},
   "source": [
    "We found that the reconstruction is almost lossless. "
   ]
  },
  {
   "cell_type": "markdown",
   "metadata": {},
   "source": [
    "### 2.3 STFT Equalizer\n",
    "#### 7. Audio equalizer realisation"
   ]
  },
  {
   "cell_type": "code",
   "execution_count": 78,
   "metadata": {},
   "outputs": [],
   "source": [
    "def equalizer(wk, X): \n",
    "    \"\"\"\n",
    "    wk: [M, ] - weights to every channel\n",
    "    X: [M, T] - STFT of the original signal\n",
    "    \"\"\"\n",
    "    y = istft(wk[:, None]*X)\n",
    "    return y\n",
    "\n",
    "wk_1, wk_2 = np.zeros(32), np.zeros(32)\n",
    "wk_1[0] = 1\n",
    "wk_2[-1] = 1\n",
    "y_low = equalizer(wk_1, X=Xtilde)\n",
    "y_high = equalizer(wk_2, X=Xtilde)"
   ]
  },
  {
   "cell_type": "code",
   "execution_count": null,
   "metadata": {},
   "outputs": [],
   "source": [
    "Audio(y_low, rate=48000)"
   ]
  },
  {
   "cell_type": "code",
   "execution_count": null,
   "metadata": {},
   "outputs": [],
   "source": [
    "Audio(y_high, rate=48000)"
   ]
  },
  {
   "cell_type": "markdown",
   "metadata": {},
   "source": [
    "We can hear that by tailoring the frequency component of the STFT, we could obtain different frequency component of the original signal.  "
   ]
  },
  {
   "cell_type": "markdown",
   "metadata": {},
   "source": []
  }
 ],
 "metadata": {
  "kernelspec": {
   "display_name": "signaux",
   "language": "python",
   "name": "python3"
  },
  "language_info": {
   "codemirror_mode": {
    "name": "ipython",
    "version": 3
   },
   "file_extension": ".py",
   "mimetype": "text/x-python",
   "name": "python",
   "nbconvert_exporter": "python",
   "pygments_lexer": "ipython3",
   "version": "3.6.13"
  }
 },
 "nbformat": 4,
 "nbformat_minor": 2
}
